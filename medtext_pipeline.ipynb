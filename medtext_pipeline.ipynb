{
 "cells": [
  {
   "cell_type": "markdown",
   "metadata": {
    "deletable": true,
    "editable": true
   },
   "source": [
    "## Medtext Pipeline\n",
    "\n",
    "Assembling, parsing, crawling of all components to build the medtext databases. Further information can be found in the wiki: http://wiki.eonum.ch/doku.php?id=data:medicaltext\n",
    "\n",
    "\n"
   ]
  },
  {
   "cell_type": "code",
   "execution_count": 102,
   "metadata": {
    "collapsed": false,
    "deletable": true,
    "editable": true
   },
   "outputs": [
    {
     "name": "stdout",
     "output_type": "stream",
     "text": [
      "The autoreload extension is already loaded. To reload it, use:\n",
      "  %reload_ext autoreload\n"
     ]
    }
   ],
   "source": [
    "%matplotlib inline\n",
    "%load_ext autoreload\n",
    "%autoreload 2\n",
    "\n",
    "import load_config\n",
    "import json\n",
    "import nltk\n",
    "\n",
    "### define a new configuration\n",
    "config_dict = {\n",
    "    # databases\n",
    "    \"medical_books_pdf_folder\": \"/media/data/medical_books/medical_books_pdf\",\n",
    "    \"medical_books_txt_folder\": \"/media/data/medical_books/test_out/\",\n",
    "    \"wiki_dump_url\": \"https://dumps.wikimedia.org/dewiki/latest/dewiki-latest-pages-articles.xml.bz2\",\n",
    "    \"wiki_dump\": \"/media/data/wiki_dumps/dewiki-latest-pages-articles.xml.bz2\",\n",
    "    \"categories_file\": \"/media/data/wiki_dumps/categories\",\n",
    "    \"categories_dump_file\": \"../wiki_dumps/dewiki-latest-category.sql\",\n",
    "    \"wiki_all_texts\": \"/media/data/wiki_dumps/wiki_med_txts_2018\",\n",
    "    \"wiki_medical_txt\": \"/media/data/wiki_dumps/wiki_med_txts_2018/positive\",\n",
    "    \"wiki_non_medical_txt\": \"/media/data/wiki_dumps/wiki_med_txts_2018/negative\",\n",
    "    \"crawler_output_html\": \"/media/data/medtextcollector/data/output/crawler/raw\",\n",
    "    \"crawler_output_txt\": \"/media/data/medtextcollector/data/output/crawler/pages\",\n",
    "    \n",
    "    # data for labeling\n",
    "    \"sentences_manual_labeling_file\": \"/media/data/sentence_classification/data/sentences_for_manual_labeling.csv\",\n",
    "    \n",
    "    # models\n",
    "    \"medtext_classifier_config\": \"/media/data/configuration-medtext-notebook-pipeline-crawler.json\",\n",
    "    \"medtext_classifier_folder\": \"/media/data/medtext_classifier_and_crawler\",\n",
    "    \"embedding_model\": \"\",\n",
    "    \n",
    "    # chose tokenizer. possible values: \"nst\" and \"sgt\"\n",
    "    ## NonStemmingTokenizer: 'nst'\n",
    "    # - no stemming, only remove punctuation marks\n",
    "    # - lowercase letters\n",
    "\n",
    "    ## SimpleGermanTokenizer: 'sgt'\n",
    "    # - remove punctuation marks\n",
    "    # - stemming\n",
    "    # - lowercase letters\n",
    "    \"tokenizer\": \"nst\",\n",
    "    \n",
    "    # where to store the configuration file\n",
    "    \"config_path\": \"/media/data/configuration-medtext-notebook.json\"\n",
    "}\n"
   ]
  },
  {
   "cell_type": "code",
   "execution_count": 103,
   "metadata": {
    "collapsed": false,
    "deletable": true,
    "editable": true
   },
   "outputs": [],
   "source": [
    "### save config file (don't change)\n",
    "config_src = config_dict[\"config_path\"]\n",
    "\n",
    "with open(config_src, 'w+') as f:\n",
    "    json.dump(config_dict, f, indent=4)\n",
    "    \n",
    "# load config object based on config file (don't change)\n",
    "config = load_config.Configuration(config_src, True)"
   ]
  },
  {
   "cell_type": "code",
   "execution_count": 104,
   "metadata": {
    "collapsed": false,
    "deletable": true,
    "editable": true
   },
   "outputs": [
    {
     "name": "stdout",
     "output_type": "stream",
     "text": [
      "['Dies ist ein Beispielsatz!', 'Und hier noch einmal.', 'Neuer Absatz: Aber hallo.. Du Und ein Beispiel z.B. oder z.Bsp: Ein Beispiel.', 'Klein (1), S. Moritz (2), T. Berger (3)']\n"
     ]
    },
    {
     "data": {
      "text/plain": [
       "['dies',\n",
       " 'ist',\n",
       " 'ein',\n",
       " 'beispielastz',\n",
       " 'komm',\n",
       " 'wir',\n",
       " 'machen',\n",
       " 'eine',\n",
       " 'überraschung',\n",
       " 'und',\n",
       " 'stemmen',\n",
       " 'diesen',\n",
       " 'satz',\n",
       " 'p',\n",
       " '987',\n",
       " 'à',\n",
       " 'è']"
      ]
     },
     "execution_count": 104,
     "metadata": {},
     "output_type": "execute_result"
    }
   ],
   "source": [
    "# load sentence detector and tokenizer\n",
    "\n",
    "import nltk\n",
    "from notebooks.tokenizer import get_tokenizer\n",
    "from data_analysis_toolkit import extract_sentences\n",
    "\n",
    "sentence_detector = nltk.data.load('tokenizers/punkt/german.pickle')\n",
    "tokenizer = get_tokenizer(config_dict['tokenizer'])\n",
    "\n",
    "print(extract_sentences(\"Dies ist ein Beispielsatz! Und hier noch einmal.\\nNeuer Absatz: Aber hallo.. Du\"\n",
    "                                 + \"\\nUnd ein Beispiel z.B. oder z.Bsp: Ein Beispiel. \" +\n",
    "                        \"J. P. Klein (1), S. Moritz (2), T. Berger (3)\", sentence_detector))\n",
    "\n",
    "tokenizer.tokenize(\"Dies ist ein Beispielastz! Komm wir machen eine Überraschung und stemmen diesen Satz.\\n p 987*/-_à!è\")"
   ]
  },
  {
   "cell_type": "code",
   "execution_count": null,
   "metadata": {
    "collapsed": false,
    "deletable": true,
    "editable": true
   },
   "outputs": [
    {
     "name": "stdout",
     "output_type": "stream",
     "text": [
      "Raw data bases\n"
     ]
    },
    {
     "data": {
      "text/html": [
       "<table>\n",
       "<tbody>\n",
       "<tr><td>database                                            </td><td>files</td></tr>\n",
       "<tr><td>/media/data/medical_books/medical_books_pdf         </td><td>53869</td></tr>\n",
       "<tr><td>/media/data/medtextcollector/data/output/crawler/raw</td><td>8009 </td></tr>\n",
       "<tr><td>/media/data/wiki_dumps/wiki_med_txts_2018/negative  </td><td>9377 </td></tr>\n",
       "<tr><td>/media/data/wiki_dumps/wiki_med_txts_2018           </td><td>18754</td></tr>\n",
       "</tbody>\n",
       "</table>"
      ],
      "text/plain": [
       "<IPython.core.display.HTML object>"
      ]
     },
     "metadata": {},
     "output_type": "display_data"
    },
    {
     "name": "stdout",
     "output_type": "stream",
     "text": [
      "Cleaned data bases\n"
     ]
    },
    {
     "data": {
      "image/png": "[encoded data removed]",
      "text/plain": [
       "<matplotlib.figure.Figure at 0x7fa12a07ffd0>"
      ]
     },
     "metadata": {},
     "output_type": "display_data"
    },
    {
     "data": {
      "image/png": "[encoded data removed]",
      "text/plain": [
       "<matplotlib.figure.Figure at 0x7f9fe49c1f60>"
      ]
     },
     "metadata": {},
     "output_type": "display_data"
    },
    {
     "name": "stdout",
     "output_type": "stream",
     "text": [
      "['/media/data/wiki_dumps/wiki_med_txts_2018/positive', 9377, 9377, 260516, 5040033, 326184, 51730, 0.8414085301547592]\n"
     ]
    },
    {
     "data": {
      "image/png": "[encoded data removed]",
      "text/plain": [
       "<matplotlib.figure.Figure at 0x7fa1375fceb8>"
      ]
     },
     "metadata": {},
     "output_type": "display_data"
    },
    {
     "data": {
      "image/png": "[encoded data removed]",
      "text/plain": [
       "<matplotlib.figure.Figure at 0x7fa04bcd9f28>"
      ]
     },
     "metadata": {},
     "output_type": "display_data"
    },
    {
     "name": "stdout",
     "output_type": "stream",
     "text": [
      "['/media/data/wiki_dumps/wiki_med_txts_2018/negative', 9377, 9377, 199120, 3993181, 345012, 48063, 0.8606918020242774]\n"
     ]
    }
   ],
   "source": [
    "# get number of files, sentences, tokens, vocabulary and character histograms in each database. \n",
    "# This cell takes quite a while to execute!\n",
    "from data_analysis_toolkit import get_files_from_folder, load_documents\n",
    "\n",
    "databases_raw = [config[\"medical_books_pdf_folder\"], config[\"crawler_output_html\"],\n",
    "                config[\"wiki_non_medical_txt\"], config['wiki_all_texts']]\n",
    "databases_cleaned = [config[\"wiki_medical_txt\"], config[\"wiki_non_medical_txt\"],\n",
    "                     config['medical_books_txt_folder'], config['crawler_output_txt']]\n",
    "\n",
    "from IPython.display import HTML, display\n",
    "import tabulate\n",
    "table = [[\"database\", \"files\"]]\n",
    "\n",
    "def swiss_number(number):\n",
    "    return \"{:,}\".format(number).replace(',',\"'\")\n",
    "\n",
    "print(\"Raw data bases\")\n",
    "for db in  databases_raw:\n",
    "    table.append([db, len(get_files_from_folder(db))])\n",
    "display(HTML(tabulate.tabulate(table, tablefmt='html')))\n",
    "\n",
    "print(\"Cleaned data bases\")\n",
    "table = [[\"database\", \"files\", \"documents\", \"sentences\", \"tokens\", \"vocabulary\",\n",
    "          \"vocabulary freq > 5\", \"long tail ratio\"]]\n",
    "vocs = []\n",
    "docs = []\n",
    "for db in  databases_cleaned:\n",
    "    files = get_files_from_folder(db)\n",
    "    documents, load_errors = load_documents(files)\n",
    "    sentences = []\n",
    "    tokens = []\n",
    "    docs.append(documents)\n",
    "    fdc = nltk.FreqDist()\n",
    "    fdc_tokens = nltk.FreqDist()\n",
    "    for document in documents:\n",
    "        fdc.update(document)\n",
    "        sentences.extend(extract_sentences(document, sentence_detector))\n",
    "    for sentence in sentences:\n",
    "        tokens.extend(tokenizer.tokenize(sentence))\n",
    "        # disable this if not enough time!\n",
    "        #for token in tokens:\n",
    "        #    fdc_tokens.update(token)\n",
    "    voc = set(tokens)\n",
    "    vocs.append(voc)\n",
    "    \n",
    "    # word frequencies\n",
    "    fd = nltk.FreqDist(tokens)\n",
    "    # print(fd.most_common(30))\n",
    "    fd.plot(30,cumulative=False)   \n",
    "    \n",
    "    # character frequencies\n",
    "    # print(fdc.most_common(40))\n",
    "    fdc.plot(40,cumulative=False)\n",
    "    \n",
    "    #fdc_tokens.plot(40,cumulative=False)\n",
    "    \n",
    "    cropped_vocab_size = len([e for e in fd.items() if fd.get(e[0]) > 5])\n",
    "    vocab_size = len(voc)\n",
    "    long_tail_ratio = (vocab_size - cropped_vocab_size) / vocab_size\n",
    "    \n",
    "    print([db, len(files), len(documents), len(sentences), len(tokens), vocab_size, \n",
    "           cropped_vocab_size, long_tail_ratio])\n",
    "    table.append([db, swiss_number(len(files)), swiss_number(len(documents)), \n",
    "                  swiss_number(len(sentences)), swiss_number(len(tokens)), \n",
    "                  swiss_number(vocab_size), swiss_number(cropped_vocab_size),\n",
    "                  swiss_number(long_tail_ratio)])  \n",
    "    \n",
    "    \n",
    "display(HTML(tabulate.tabulate(table, tablefmt='html')))\n",
    "\n",
    "voc_union = vocs[0]\n",
    "voc_intersection = vocs[0]\n",
    "for voc in vocs:\n",
    "    voc_union = voc_union.union(voc)\n",
    "    voc_intersection = voc_intersection.intersection(voc)\n",
    "\n",
    "print(\"Union vocabulary: \" + swiss_number(len(voc_union)))\n",
    "print(\"Intersection vocabulary: \" + swiss_number(len(voc_intersection)))\n",
    "\n",
    "    "
   ]
  },
  {
   "cell_type": "code",
   "execution_count": 100,
   "metadata": {
    "collapsed": false,
    "deletable": true,
    "editable": true
   },
   "outputs": [
    {
     "name": "stdout",
     "output_type": "stream",
     "text": [
      "\n",
      "== Document ==\n",
      "Der  <nowiki/>e Ausdruck  Déformation professionnelle  (deutsch etwa ‚berufliche Entstellung‘) ist ein  Wortspiel , das die Neigung bezeichnet, eine berufs- oder fachbedingte Methode oder Perspektive unbewusst über ihren Geltungsbereich hinaus anzuwenden. Auf fachfremde Themen oder Situationen angewendet kann dies zu einer eingeengter Sichtweise, zu Fehlurteilen oder zu sozial unangemessenem Verhalten führen.\n",
      "\n",
      "Der Ausdruck ist eine  Verballhornung  des  Französische Sprache|französischen  Begriffs  Formation professionnelle  für  Berufsausbildung  oder  berufliche Bildung,  auf den er sich in  Ironie|ironischer  Weise bezieht. Er geht vermutlich auf einen Aufsatz des belgischen Soziologen  Daniel Warnotte  von 1937 zurück. \n",
      "\n",
      "Beispiele für eine Déformation professionnelle wären ein Lehrer, der auch auf einer Party Vorträge hält, oder ein Polizist, der auch außer Dienst überall Verbrecher sieht.\n",
      "\n",
      "Eine ähnliche Redeweise ist der Ausdruck   Betriebsblindheit  .\n",
      "\n",
      "  Siehe auch  \n",
      "*  Gemeine-Welt-Syndrom \n",
      "*  Etikettierungsansatz \n",
      "*  Fachidiot \n",
      "*   Law of the instrument  \n",
      "*  Biologismus\n",
      "== Sentences ==\n",
      "Der  <nowiki/>e Ausdruck  Déformation professionnelle  (deutsch etwa ‚berufliche Entstellung‘) ist ein  Wortspiel , das die Neigung bezeichnet, eine berufs- oder fachbedingte Methode oder Perspektive unbewusst über ihren Geltungsbereich hinaus anzuwenden.\n",
      "Auf fachfremde Themen oder Situationen angewendet kann dies zu einer eingeengter Sichtweise, zu Fehlurteilen oder zu sozial unangemessenem Verhalten führen.\n",
      "Der Ausdruck ist eine  Verballhornung  des  Französische Sprache|französischen  Begriffs  Formation professionnelle  für  Berufsausbildung  oder  berufliche Bildung,  auf den er sich in  Ironie|ironischer  Weise bezieht.\n",
      "Er geht vermutlich auf einen Aufsatz des belgischen Soziologen  Daniel Warnotte  von 1937 zurück.\n",
      "== Tokens ==\n",
      "['der', 'nowiki', '', 'e', 'ausdruck', 'déformation', 'professionnelle', 'deutsch', 'etwa', 'berufliche', 'entstellung', 'ist', 'ein', 'wortspiel', 'das', 'die', 'neigung', 'bezeichnet', 'eine', 'berufs', 'oder', 'fachbedingte', 'methode', 'oder', 'perspektive', 'unbewusst', 'über', 'ihren', 'geltungsbereich', 'hinaus', 'anzuwenden']\n",
      "['auf', 'fachfremde', 'themen', 'oder', 'situationen', 'angewendet', 'kann', 'dies', 'zu', 'einer', 'eingeengter', 'sichtweise', 'zu', 'fehlurteilen', 'oder', 'zu', 'sozial', 'unangemessenem', 'verhalten', 'führen']\n",
      "['der', 'ausdruck', 'ist', 'eine', 'verballhornung', 'des', 'französische', 'sprache', 'französischen', 'begriffs', 'formation', 'professionnelle', 'für', 'berufsausbildung', 'oder', 'berufliche', 'bildung', 'auf', 'den', 'er', 'sich', 'in', 'ironie', 'ironischer', 'weise', 'bezieht']\n",
      "['er', 'geht', 'vermutlich', 'auf', 'einen', 'aufsatz', 'des', 'belgischen', 'soziologen', 'daniel', 'warnotte', 'von', '1937', 'zurück']\n",
      "\n",
      "== Document ==\n",
      "Die  Dongjin-Brücke  (东津桥 / 東津橋 / Dōngjīn Qiáo) im Stadtgebiet  Zhanggong  der  Bezirksfreie Stadt|bezirksfreien Stadt   Ganzhou , Provinz  Jiangxi ,  China  ist eine  Pontonbrücke|Schiffbrücke  über den  Gan Jiang  (Gan-Fluss) im Norden der Stadt ( ).\n",
      "\n",
      "Sie ist ungefähr 400 m lang und 4,50 m breit. Sie besteht aus etwa 100 Booten, die mit eisernen Ketten untereinander verbunden sind und auf denen Holzplanken als Brückendeck befestigt sind. Die Brücke endet an Treppen, die die steilen Ufer hinaufführen. Bei steigendem Wasser wird sie durch zusätzliche Planken oder eingeschwommene kurze Brückenteile mit den höheren und deshalb weiter zurückliegenden Treppenabschnitten verbunden. Sie kann nur von Fußgängern und Radfahrern benutzt werden.\n",
      "\n",
      "Die Dongjin-Brücke wurde erstmals in der  Song-Dynastie  (960-1279) gebaut und seitdem immer wieder erneuert. Sie ist eine der wenigen chinesischen Schiffbrücken, die die Zeiten überdauert haben.\n",
      "\n",
      "Im Süden von Zhanggong gibt es eine weitere, ungefähr 300 m lange und 4,30 m breite Schwimmbrücke mit etwa 80 Booten. Diese Brücke wird an beiden Enden von einem Zugangsportal auf einem größeren Stahlponton begrenzt, das über einen beweglichen Steg mit der Ufertreppe verbunden ist. Auch diese Brücke kann nur von Fußgängern oder Radfahrern benutzt werden.( ).\n",
      "\n",
      " Kategorie:Brücke in China \n",
      " Kategorie:Schwimmbrücke \n",
      " Kategorie:Bauwerk in Jiangxi \n",
      " Kategorie:Song-Dynastie \n",
      " Kategorie:Verkehr (Jiangxi) \n",
      " Kategorie:Brücke in Asien \n",
      " Kategorie:Ganzhou\n",
      "== Sentences ==\n",
      "Die  Dongjin-Brücke  (东津桥 / 東津橋 / Dōngjīn Qiáo) im Stadtgebiet  Zhanggong  der  Bezirksfreie Stadt|bezirksfreien Stadt   Ganzhou , Provinz  Jiangxi ,  China  ist eine  Pontonbrücke|Schiffbrücke  über den  Gan Jiang  (Gan-Fluss) im Norden der Stadt ( ).\n",
      "Sie ist ungefähr 400 m lang und 4,50 m breit.\n",
      "Sie besteht aus etwa 100 Booten, die mit eisernen Ketten untereinander verbunden sind und auf denen Holzplanken als Brückendeck befestigt sind.\n",
      "Die Brücke endet an Treppen, die die steilen Ufer hinaufführen.\n",
      "== Tokens ==\n",
      "['die', 'dongjin-brücke', '', '', '', '', '', '', 'dngjn', 'qio', 'im', 'stadtgebiet', 'zhanggong', 'der', 'bezirksfreie', 'stadt', 'bezirksfreien', 'stadt', 'ganzhou', 'provinz', 'jiangxi', 'china', 'ist', 'eine', 'pontonbrücke', 'schiffbrücke', 'über', 'den', 'gan', 'jiang', 'gan-fluss', 'im', 'norden', 'der', 'stadt']\n",
      "['sie', 'ist', 'ungefähr', '400', 'm', 'lang', 'und', '450', 'm', 'breit']\n",
      "['sie', 'besteht', 'aus', 'etwa', '100', 'booten', 'die', 'mit', 'eisernen', 'ketten', 'untereinander', 'verbunden', 'sind', 'und', 'auf', 'denen', 'holzplanken', 'als', 'brückendeck', 'befestigt', 'sind']\n",
      "['die', 'brücke', 'endet', 'an', 'treppen', 'die', 'die', 'steilen', 'ufer', 'hinaufführen']\n",
      "\n",
      "== Document ==\n",
      "Aktuell Kardiologie\n",
      "\n",
      "Heusch räumte ein, dass auch zwei negative Studien vorliegen, mochte diese aber\n",
      "nicht überbewerten, da auch in Essen die\n",
      "Tauglichkeit der PaD inzwischen bestätigt\n",
      "werden konnte und im anästhesistischen\n",
      "Alltag bei Herzoperationen umgesetzt wird.\n",
      "Starke Argumente lieferte in diesem Jahr\n",
      "eine dänische Gruppe um Prof. Hans Erik Bøt-\n",
      "\n",
      "ker. Ihr Ansatz: Ersthelfer im Krankenwagen\n",
      "unterbrachen bei der Hälfte der knapp 150\n",
      "Studienteilnehmer die Blutzufuhr zum Arm\n",
      "mit einer Blutdruckmanschette, viermal für\n",
      "jeweils fünf Minuten. Nach Ankunft in der\n",
      "Klinik und nach 30 Tagen verglichen Bøtker\n",
      "und Kollegen den Effekt auf das Myokard. Die\n",
      "kurzzeitige Blutarmut bewahrte über zehn\n",
      "\n",
      "Prozent mehr Gewebe davor, abzusterben\n",
      "(Bøtker HE et al. Lancet. 2010 Feb 27;375(9716)\n",
      ":727-34). Nun wäre es wünschenswert, dass\n",
      "eine größere Studie den Effekt überprüft.\n",
      "Kommentar von Heusch: „Vielleicht tun\n",
      "wir jetzt schon das Richtige, wenn wir im\n",
      "Krankenwagen möglichst oft den Blutdruck\n",
      "(J.A.)\n",
      "messen“.\n",
      "\n",
      "Infarkttherapie des alten Patienten\n",
      "\n",
      "© photos.com PLUS\n",
      "\n",
      "Wie aggressiv sollen wir sein?\n",
      "\n",
      "Wann ist ein Patient alt? Es zählt mehr das\n",
      "biologische als das numerische Alter.\n",
      "\n",
      "Die Frage taucht immer wieder auf:\n",
      "Sollen wir denn die sehr Alten noch\n",
      "quälen mit einer Revaskularisation, tun\n",
      "wir ihnen damit wirklich etwas Gutes?\n",
      "Prof. Uwe Zeymer, Ludwigshafen,\n",
      "durchsuchte seine Datensätze und\n",
      "meinte: Es kommt wesentlich auf das\n",
      "biologische Alter an, dann kann die Intervention zumindest die Lebensqualität verbessern.\n",
      "Generell ist klar: Mit dem Alter nehmen\n",
      "die Herz-Kreislauf-Risiken zu, das weiß jeder\n",
      "Risiko-Score. Wann aber sollte man zweimal\n",
      "überlegen, ob eine PCI sinnvoll ist? Mit dem\n",
      "Rentenalter (65), mit 70, 75 oder gar erst mit\n",
      "80? Studien geben hierzu einen Fingerzeig.\n",
      "Mit 75 schnellt das Sterblichkeitrisiko nach\n",
      "PCI hoch. Deshalb, so Zeymer, kann man als\n",
      "Definition für den Terminus „alter Patient“\n",
      "den Schwellenwert von über 75 nehmen.\n",
      "In welchem Ausmaß therapeutische\n",
      "Strategien diesen alten Infarktpatienten tatsächlich helfen, lässt sich nicht so einfach\n",
      "evidenzgesichert belegen, denn dieses Kollektiv wird aus randomisierten klinischen\n",
      "Studien häufig ausgeschlossen. Aber auch\n",
      "\n",
      "16\n",
      "\n",
      "ohne Megastudien weiß man, dass die Rate\n",
      "an ischämischen und Blutungskomplikationen ansteigen, ebenso Komorbiditäten wie\n",
      "Niereninsuffizienz und Schlaganfall.\n",
      "Speziell auf diese „Zielgruppe“ ausgerichtet war die Italienische „Elderly ASC Study“, die auf dem ESC in Paris vorgestellt wurde. Dabei wurde eine frühe invasive Strategie\n",
      "mit einer initial konservativen Behandlung\n",
      "verglichen. Von den 645 gescreenten Patienten schieden allerdings 322 vor der Randomisierung aus den vielfältigsten Gründen\n",
      "aus. Letztlich konnten in der Gruppe mit frühaggressivem Vorgehen nur 154, in der konservativen Gruppe 159 Patienten analysiert\n",
      "werden. Bei 55 Patienten ist in der früh-aggressiven Gruppe eine Revaskularisation\n",
      "durchgeführt, nach einem Jahr waren es\n",
      "dann 51. In der konservativen Gruppe betrug\n",
      "die Zahl der Revaskularisationen 23 und stieg\n",
      "nach dem Beobachtungsjahr auf 31. Dabei\n",
      "erhielt, so Zeymer, die Konservative Gruppe\n",
      "eine optimale medikamentöse Therapie.\n",
      "Primärer Endpunkt war ein Komposit aus\n",
      "Tod, nicht-tödlichem Herzinfarkt, Schlaganfall und erneuter Hospitalisierung aus kardiovaskulären Gründen oder aber schwere\n",
      "Blutungen im Verlauf eines Jahres nach der\n",
      "Randomisierung.\n",
      "Diesen Summationsendpunkt erreichten\n",
      "in der frühaggressiven Gruppe 43 Patienten\n",
      "(27,9%), in der konservativen Gruppe 55\n",
      "(34,6%), ein nicht signifikantes Ergebnis (p =\n",
      "0,26), aber mit deutlichem Trend zugunsten\n",
      "des aggressiven Vorgehens.\n",
      "Ein Parameter scheint bei der Therapieentscheidung besonders wichtig zu sein: das\n",
      "\n",
      "Troponin. Patienten mit erhöhtem Troponin\n",
      "bei der Einweisung konnten sich über eine\n",
      "signifikante Reduktion des primären Endpunkts freuen, während normale TroponinWerte ohne Auswirkung blieben.\n",
      "Unterm Strich: Beide Strategien sind in\n",
      "etwa gleich gut, wenn die konservative Betreuung Revaskularisationen bei wiederholten Ischämien vorsieht.\n",
      "\n",
      "Das kalendarische Alter per se ist keine\n",
      "Kontraindikation\n",
      "Und was sagen die deutschen Daten? Im\n",
      "Deutschen Herzinfarkt Register sind 25% der\n",
      "4677 Patienten über 75. Sie übertreffen die\n",
      "unter 75-Jährigen in allen Komorbiditäten\n",
      "(mit Ausnahme des kardiogenen Schocks)\n",
      "hochsignifikant. Es dominierten auch die\n",
      "Frauen. Und der Zeitintervall zwischen Symptombeginn und medizinischem Erstkontakt\n",
      "lag bei 108 min im Vergleich zu den Jüngeren\n",
      "mit 87 min.\n",
      "Alles in allem vertritt Zeymer die Auffassung, dass eine frühe aggressive Therapie\n",
      "den klinischen Verlauf bei akzeptablem Risiko verbessert, auch bei alten Infarktpatienten. Wichtig für die Strategie ist die Einschätzung des biologischen Alters, wobei\n",
      "Komorbiditäten wie Demenz eine wesentliche Rolle spielen wie auch das soziale Umfeld. Das numerische, kalendarische Alter per\n",
      "se sollte dagegen keine Kontraindikation für\n",
      "eine invasive Strategie sein.\n",
      "Problematisch sind Patienten nach einer\n",
      "Reanimation und / oder einem kardiogenen\n",
      "Schock, hier scheint invasives Vorgehen mehr\n",
      "(J.A.)\n",
      "zu schaden als zu nutzen.\n",
      "\n",
      "CARDIO VASC\n",
      "\n",
      "2011 | 5\n",
      "\n",
      "\f",
      "\n",
      "== Sentences ==\n",
      "Aktuell Kardiologie  Heusch räumte ein, dass auch zwei negative Studien vorliegen, mochte diese aber nicht überbewerten, da auch in Essen die Tauglichkeit der PaD inzwischen bestätigt werden konnte und im anästhesistischen Alltag bei Herzoperationen umgesetzt wird.\n",
      "Starke Argumente lieferte in diesem Jahr eine dänische Gruppe um Prof. Hans Erik Bøt-  ker.\n",
      "Ihr Ansatz: Ersthelfer im Krankenwagen unterbrachen bei der Hälfte der knapp 150 Studienteilnehmer die Blutzufuhr zum Arm mit einer Blutdruckmanschette, viermal für jeweils fünf Minuten.\n",
      "Nach Ankunft in der Klinik und nach 30 Tagen verglichen Bøtker und Kollegen den Effekt auf das Myokard.\n",
      "== Tokens ==\n",
      "['aktuell', 'kardiologie', 'heusch', 'räumte', 'ein', 'dass', 'auch', 'zwei', 'negative', 'studien', 'vorliegen', 'mochte', 'diese', 'aber', 'nicht', 'überbewerten', 'da', 'auch', 'in', 'essen', 'die', 'tauglichkeit', 'der', 'pad', 'inzwischen', 'bestätigt', 'werden', 'konnte', 'und', 'im', 'anästhesistischen', 'alltag', 'bei', 'herzoperationen', 'umgesetzt', 'wird']\n",
      "['starke', 'argumente', 'lieferte', 'in', 'diesem', 'jahr', 'eine', 'dänische', 'gruppe', 'um', 'prof', 'hans', 'erik', 'bt', 'ker']\n",
      "['ihr', 'ansatz', 'ersthelfer', 'im', 'krankenwagen', 'unterbrachen', 'bei', 'der', 'hälfte', 'der', 'knapp', '150', 'studienteilnehmer', 'die', 'blutzufuhr', 'zum', 'arm', 'mit', 'einer', 'blutdruckmanschette', 'viermal', 'für', 'jeweils', 'fünf', 'minuten']\n",
      "['nach', 'ankunft', 'in', 'der', 'klinik', 'und', 'nach', '30', 'tagen', 'verglichen', 'btker', 'und', 'kollegen', 'den', 'effekt', 'auf', 'das', 'myokard']\n",
      "\n",
      "== Document ==\n",
      "\"http://de.wikipedia.org/w/index.php?title=Medizinische_Psychologie&direction=prev&oldid=58504236\";\"16-06-17-12\";\"pipeline-12-05-17-14\";\"0.99504805834\"\n",
      "Die Medizinische Psychologie ist ein eigenständiges Fachgebiet der Psychologie, welches innerhalb der Humanmedizin verankert ist. Entsprechend ist das Fachgebiet an den medizinischen Fakultäten der BRD in der Forschung und Lehre sowie in der Patientenversorgung inhaltlich, strukturell – als Abteilung oder Institut für Medizinische Psychologie - und personell vertreten.\n",
      "Als Lehrfach ist die Medizinische Psychologie, ebenso wie die Medizinische Soziologie ein in der Approbationsordnung für Ärzte (ÄAppO) vorgeschriebenes Pflichtfach im ersten Abschnitt des Medizinstudiums. Die wissenschaftliche Fachgesellschaft der in der Medizinischen Psychologie Tätigen ist die 1979 gegründete Deutsche Gesellschaft für Medizinische Psychologie ([DGMP]).\n",
      "Medizinpsychologische Forschung Die Medizinische Psychologie ist ein interdisziplinäres Fach. Ihre Vertreterinnen und Vertreter können in verschiedenen Teildisziplinen der Psychologie beheimatet sein. Ihnen gemeinsam ist, dass sie die Verbindungen zwischen psychologischen und medizinischen Sachverhalten erforschen. Damit tragen sie psychosozialen Aspekten von Gesundheit und Krankheit sowohl auf Seiten der Patienten, Angehörigen und verschiedener Krankheitsgruppen als auch auf Seiten des medizinischen Personals Rechnung.\n",
      "Wichtige Themen medizinpsychologischer Forschung sind unter anderem: – Arzt-Patient-Beziehung und Kommunikation – Krankheitsverarbeitung – Lebensqualität – Psychobiologische Zusammenhänge – Prävention und Gesundheitsförderung sowie Rehabilitation – Psychosoziale Versorgungsforschung – Anwendung psychologischer Interventionen in der Medizin – Entwicklungspsychologie und der Umgang mit Patienten und ihren Familien in verschiedenen Lebensabschnitten von der Kindheit bis ins hohe Alter – Sozialpsychologische Aspekte von Gesundheit und Krankheit\n",
      "Mit diesen und anderen Themen wirkt die Medizinische Psychologie in alle Bereiche der Medizin hinein. Wissenschaftlich tätige Medizinpsychologinnen und -psychologen sind daher oft zugleich Mitglieder anderer wissenschaftlicher medizinischer oder psychologischer Fachgesellschaften. Ergebnisse von Forschungen im Bereich der Medizinischen Psychologie werden beispielsweise auf den jährlichen Kongressen der DGMP und in nationalen und internationalen Fachzeitschriften präsentiert.\n",
      "Medizinpsychologische Lehre, Fort- und Weiterbildung Für Ärzte stellt medizinpsychologisches Wissen und Können eine Basiskompetenz dar, die in allen klinischen Bereichen zur Anwendung kommen sollte. Deshalb wurde die Medizinische Psychologie mit der ÄAppO 1970 auch als Grundlagenfach im Rahmen des ersten Abschnitts des Medizinstudiums und in der ersten Ärztlichen Prüfung etabliert. Die zentralen Gegenstände dieser Ausbildung sind im Gegenstandskatalog des Instituts für Medizinische und Pharmazeutische Prüfungsfragen festgehalten. Das Fach Medizinische Psychologie umfasst üblicherweise wenigstens eine Vorlesung, ein Seminar und einen Kursus. Über die Lehre im ersten Abschnitt des Studiums hinausgehend werden medizinpsychologische Inhalte auch in den Querschnittsfächern des zweiten Studienabschnittes unterrichtet (z. B. Medizin des Alterns und des alten Menschen, Prävention und Gesundheitsförderung, Umweltmedizin). Medizinpsychologische Themen sind außerdem Gegenstand in der ärztlichen Fort- und Weiterbildung sowie in der Aus- und Weiterbildung anderer medizinischer und medizinnaher Berufe.\n",
      "Medizinische Psychologie in der Krankenversorgung In der Krankenversorgung sind Vertreterinnen und Vertreter der Medizinischen Psychologie z.B. psychodiagnostisch und psychotherapeutisch beispielsweise bei der psychosozialen Betreuung von somatisch Kranken im Rahmen von Konsiliar- /Liaisondiensten tätig. Medizinpsychologinnen und –psychologen bieten an vielen Orten auch psychosoziale Fortbildung und Supervision von Ärzten und Pflegepersonal an.\n",
      "Geschichte Das Fach Medizinische Psychologie wurde bereits Anfang des 20. Jahrhunderts in ersten Lehrbüchern definiert. So verfasste Paul Schilder 1924 ein Lehrbuch über „Medizinische Psychologie für Ärzte und Psychologen“. Am bekanntesten wurde das 1920 veröffentlichte Lehrbuch von Ernst Kretschmer, das bis in die 1970er Jahre stetig neu aufgelegt wurde. 1930 erschien ein 672 Seiten umfassendes „Handwörterbuch der Medizinischen Psychologie“ von Karl Birnbaum. Im Jahr 1964 wurde in Düsseldorf erstmals in Deutschland ein psychologischer Lehrstuhl an einer medizinischen Fakultät errichtet (Prof. Dr. Dr. G. A. Lienert). Erst 1970 führte die \"Approbationsordnung für Ärzte die Medizinische Psychologie, ebenso wie die Medizinische Soziologie und die Psychosomatische Medizin und Psychotherapie als Pflichtfächer in das Medizinstudium ein. 1971 wurde eine Lernzielkommission für das Fach eingerichtet. 1972 kam es in Gießen zu Einrichtung des ersten Lehrstuhls für Medizinische Psychologie in der Bundesrepublik (Prof. Dr. Dieter Beckmann). 1976 wurde in Ulm der erste Kongress der Medizinischen Psychologie durchgeführt. 1979 gründete sich in Heidelberg die „Gesellschaft für Medizinische Psychologie (heute DGMP). Parallel wurde im selben Jahr in der damaligen DDR eine „Arbeitsgemeinschaft der Hochschullehrer für Medizinische Psychologie in der DDR“ gegründet. Seit 1980 ist die DGMP Mitglied der \"Arbeitsgemeinschaft der Wissenschaftlich-Medizinischen Fachgesellschaften ([AWMF])\".\n",
      "\n",
      "Literatur Berth, H., Balck, F. & Brähler, E. (2008) Medizinische Psychologie von A bis Z. Göttingen: Hogrefe-Verlag.\n",
      "Birnbaum, K. (1930) Handwörterbuch der Medizinischen Psychologie. Leipzig: Georg Thieme Verlag.\n",
      "Buser, K., Schneller, T. & Wildgrube, K. (2007) Kurzlehrbuch Medizinische Psychologie. Urban & Fischer Verlag.\n",
      "Faller, H. & Lang, H. (2006) Medizinische Psychologie und Medizinische Soziologie. Berlin: Springer-Verlag.\n",
      "Gerber W.-D. & Kropp, P. (2007) Lehrbuch Medizinische Psychologie und Medizinische Soziologie. Stuttgart, Wissenschaftliche Verlagsgesellschaft.\n",
      "Kasten, E. & Sabel, B. (2008) 1ÄP – Medizinische Psychologie und Medizinische Soziologie. Stuttgart: Thieme-Verlag.\n",
      "Kretschmer, E. (1922) Medizinische Psychologie. Ein Leitfaden für Studium und Praxis. 2. Auflage. Leipzig: Georg Thieme Verlag.\n",
      "Rosemeier, H.P. (1991) Medizinische Psychologie und Soziologie. 4. Auflage. Stuttgart: Enke Verlag.\n",
      "Schilder, P. (1924) Medizinische Psychologie für Ärzte und Psychologen. Berlin: Verlag von Julius Springer\n",
      "Schüler, J. & Dietz F. (2004) Kurzlehrbuch Medizinische Psychologie. Stuttgart: Thieme-Verlag.\n",
      "Strauß, B., Berger, U. Troschke, J.v. & Brähler, E. (2004) Lehrbuch medizinische Psychologie und Medizinische Soziologie. Göttingen: Hogrefe Verlag.\n",
      "\n",
      "\n",
      "\n",
      "\n",
      "\n",
      "== Sentences ==\n",
      "\"http://de.wikipedia.org/w/index.php?title=Medizinische_Psychologie&direction=prev&oldid=58504236\";\"16-06-17-12\";\"pipeline-12-05-17-14\";\"0.99504805834\" Die Medizinische Psychologie ist ein eigenständiges Fachgebiet der Psychologie, welches innerhalb der Humanmedizin verankert ist.\n",
      "Entsprechend ist das Fachgebiet an den medizinischen Fakultäten der BRD in der Forschung und Lehre sowie in der Patientenversorgung inhaltlich, strukturell – als Abteilung oder Institut für Medizinische Psychologie - und personell vertreten.\n",
      "Als Lehrfach ist die Medizinische Psychologie, ebenso wie die Medizinische Soziologie ein in der Approbationsordnung für Ärzte (ÄAppO) vorgeschriebenes Pflichtfach im ersten Abschnitt des Medizinstudiums.\n",
      "Die wissenschaftliche Fachgesellschaft der in der Medizinischen Psychologie Tätigen ist die 1979 gegründete Deutsche Gesellschaft für Medizinische Psychologie ([DGMP]).\n",
      "== Tokens ==\n",
      "['http', '', '', 'dewikipediaorg', 'w', 'indexphp', 'title=medizinischepsychologie', '', 'direction=prev', '', 'oldid=58504236', '16-06-17-12', 'pipeline-12-05-17-14', '099504805834', 'die', 'medizinische', 'psychologie', 'ist', 'ein', 'eigenständiges', 'fachgebiet', 'der', 'psychologie', 'welches', 'innerhalb', 'der', 'humanmedizin', 'verankert', 'ist']\n",
      "['entsprechend', 'ist', 'das', 'fachgebiet', 'an', 'den', 'medizinischen', 'fakultäten', 'der', 'brd', 'in', 'der', 'forschung', 'und', 'lehre', 'sowie', 'in', 'der', 'patientenversorgung', 'inhaltlich', 'strukturell', 'als', 'abteilung', 'oder', 'institut', 'für', 'medizinische', 'psychologie', 'und', 'personell', 'vertreten']\n",
      "['als', 'lehrfach', 'ist', 'die', 'medizinische', 'psychologie', 'ebenso', 'wie', 'die', 'medizinische', 'soziologie', 'ein', 'in', 'der', 'approbationsordnung', 'für', 'ärzte', 'äappo', 'vorgeschriebenes', 'pflichtfach', 'im', 'ersten', 'abschnitt', 'des', 'medizinstudiums']\n",
      "['die', 'wissenschaftliche', 'fachgesellschaft', 'der', 'in', 'der', 'medizinischen', 'psychologie', 'tätigen', 'ist', 'die', '1979', 'gegründete', 'deutsche', 'gesellschaft', 'für', 'medizinische', 'psychologie', 'dgmp']\n"
     ]
    }
   ],
   "source": [
    "# inspect and analyze sample documents\n",
    "from random import randint\n",
    "for documents in docs:\n",
    "    document = documents[randint(0, len(documents))]\n",
    "    print(\"\\n== Document ==\")\n",
    "    print(document)\n",
    "    \n",
    "    print(\"== Sentences ==\")\n",
    "    for sentence in extract_sentences(document, sentence_detector)[:4]:\n",
    "        print(sentence)\n",
    "        \n",
    "    print(\"== Tokens ==\")\n",
    "    for sentence in extract_sentences(document, sentence_detector)[:4]:\n",
    "        print(tokenizer.tokenize(sentence))\n",
    "    "
   ]
  },
  {
   "cell_type": "code",
   "execution_count": null,
   "metadata": {
    "collapsed": true
   },
   "outputs": [],
   "source": [
    "# sentence extraction for manual sentence labeling: proper German sentence, non German, non sentence\n",
    "\n",
    "num_sentences = 0\n",
    "with open(config['sentences_manual_labeling_file'], 'r') as f:\n",
    "    while True:\n",
    "        # pick DB\n",
    "        documents = docs[randint(len(docs))]\n",
    "        \n",
    "        # pick document\n",
    "        doc = documents[randint(len(documents))]\n",
    "        \n",
    "        for sentence in extract_sentences(doc):\n",
    "            sentence = sentence.replace(';', '.')\n",
    "            f.write(sentence + \"\\n\")\n",
    "            num_sentences += 1\n",
    "            if num_sentences > 2000:\n",
    "                break\n",
    "    "
   ]
  },
  {
   "cell_type": "code",
   "execution_count": 67,
   "metadata": {
    "collapsed": false,
    "deletable": true,
    "editable": true
   },
   "outputs": [
    {
     "name": "stderr",
     "output_type": "stream",
     "text": [
      "dewiki-latest-pages-articles.xml.bz2: 4.88GB [39:21, 2.06MB/s]                               \n"
     ]
    }
   ],
   "source": [
    "# download wiki dump. Takes ~ 40min\n",
    "import urllib.request\n",
    "\n",
    "from tqdm import tqdm\n",
    "#from tqdm import tnrange, tqdm_notebook\n",
    "\n",
    "class TqdmUpTo(tqdm):\n",
    "    \"\"\"Provides `update_to(n)` which uses `tqdm.update(delta_n)`.\"\"\"\n",
    "    def update_to(self, b=1, bsize=1, tsize=None):\n",
    "        \"\"\"\n",
    "        b  : int, optional\n",
    "            Number of blocks transferred so far [default: 1].\n",
    "        bsize  : int, optional\n",
    "            Size of each block (in tqdm units) [default: 1].\n",
    "        tsize  : int, optional\n",
    "            Total size (in tqdm units). If [default: None] remains unchanged.\n",
    "        \"\"\"\n",
    "        if tsize is not None:\n",
    "            self.total = tsize\n",
    "        self.update(b * bsize - self.n)  # will also set self.n = b * bsize\n",
    "\n",
    "with TqdmUpTo(unit='B', unit_scale=True, miniters=1, desc=config[\"wiki_dump_url\"].split('/')[-1]) as t:  # all optional kwargs\n",
    "    urllib.request.urlretrieve(config[\"wiki_dump_url\"], config[\"wiki_dump\"], reporthook=t.update_to, data=None)"
   ]
  },
  {
   "cell_type": "code",
   "execution_count": 26,
   "metadata": {
    "collapsed": false,
    "deletable": true,
    "editable": true
   },
   "outputs": [
    {
     "data": {
      "text/plain": [
       "0"
      ]
     },
     "execution_count": 26,
     "metadata": {},
     "output_type": "execute_result"
    }
   ],
   "source": [
    "# extract wiki dump. Takes ~ 15min\n",
    "\n",
    "from subprocess import call\n",
    "call([\"bzip2\", \"-dk\", config[\"wiki_dump\"]])"
   ]
  },
  {
   "cell_type": "code",
   "execution_count": 34,
   "metadata": {
    "collapsed": false,
    "deletable": true,
    "editable": true
   },
   "outputs": [
    {
     "data": {
      "text/plain": [
       "0"
      ]
     },
     "execution_count": 34,
     "metadata": {},
     "output_type": "execute_result"
    }
   ],
   "source": [
    "# create categories file\n",
    "call([\"ruby\", \"scripts/scan_categories.rb\", config[\"categories_dump_file\"], config['categories_file']])"
   ]
  },
  {
   "cell_type": "code",
   "execution_count": 39,
   "metadata": {
    "collapsed": false,
    "deletable": true,
    "editable": true
   },
   "outputs": [
    {
     "name": "stdout",
     "output_type": "stream",
     "text": [
      "ruby scripts/wiki_xml_extractor.rb /media/data/wiki_dumps/dewiki-latest-pages-articles.xml /media/data/wiki_dumps/wiki_med_txts_2018 /media/data/wiki_dumps/categories\n"
     ]
    }
   ],
   "source": [
    "# extract medical and non medical articles from wiki dump\n",
    "# convert XML to TXT: medical and non-medical (negative) samples\n",
    "\n",
    "# execute this on titan (execution takes ~ 1h):\n",
    "print(\"ruby scripts/wiki_xml_extractor.rb \" + config[\"wiki_dump\"].replace(\".bz2\", \"\") + \" \"\n",
    "      + config['wiki_all_texts'] + \" \" + config['categories_file']) "
   ]
  },
  {
   "cell_type": "code",
   "execution_count": 95,
   "metadata": {
    "collapsed": false,
    "deletable": true,
    "editable": true
   },
   "outputs": [
    {
     "name": "stdout",
     "output_type": "stream",
     "text": [
      "python medtext_classification_pipeline.py -c /media/data/configuration-medtext-notebook-pipeline-crawler.json\n"
     ]
    }
   ],
   "source": [
    "# train medtext classifier\n",
    "import time\n",
    "\n",
    "config_pipeline_crawler = {\n",
    "    \"base-folder\": config['medtext_classifier_folder'],\n",
    "    \"input-folder\": config['wiki_all_texts'],\n",
    "    \"classifier-name\": \"medtext-pipeline-\" + time.strftime(\"%d-%m-%Y\"),\n",
    "    \"crawler-root-url\": \"http://www.netdoktor.de/krankheiten/\",\n",
    "    \"boilerplate-removal\": \"readability\",\n",
    "    \"max_urls\": -1,\n",
    "    \"testset-ratio\": 0.1,\n",
    "    \"threshold\": 0.8,\n",
    "    \"max-visits-per-tld\": -1,\n",
    "    \"max-dataset-size\": -1,\n",
    "    \"doc-min-tokens\": 10,\n",
    "    \"urldefrag\": True,\n",
    "    \"excluded-urls\": [],\n",
    "    \"excluded-keywords-url\": [\"wikipedia\"],\n",
    "    \"invert-p\": False,\n",
    "    \"mandatory-keywords-url\": [],\n",
    "    \"store-raw\": True\n",
    "}\n",
    "\n",
    "config_filename = config['medtext_classifier_config']\n",
    "\n",
    "with open(config_filename, 'w+') as f:\n",
    "    json.dump(config_pipeline_crawler, f, indent=4)\n",
    "\n",
    "# run on titan:\n",
    "print(\"python medtext_classification_pipeline.py -c \" + config_filename)"
   ]
  },
  {
   "cell_type": "code",
   "execution_count": 93,
   "metadata": {
    "collapsed": false,
    "deletable": true,
    "editable": true
   },
   "outputs": [
    {
     "name": "stdout",
     "output_type": "stream",
     "text": [
      "python crawler.py -c /media/data/configuration-medtext-notebook-pipeline-crawler.json\n"
     ]
    }
   ],
   "source": [
    "# start crawler\n",
    "\n",
    "# run on titan:\n",
    "print(\"python crawler.py -c \" + config_filename)"
   ]
  },
  {
   "cell_type": "code",
   "execution_count": 94,
   "metadata": {
    "collapsed": false,
    "deletable": true,
    "editable": true
   },
   "outputs": [
    {
     "name": "stdout",
     "output_type": "stream",
     "text": [
      "python pdfs_to_documents.py -i /media/data/medical_books/medical_books_pdf -o /media/data/medical_books/medical_books_plaintxt/\n"
     ]
    }
   ],
   "source": [
    "# extract TXT from PDFs\n",
    "\n",
    "# run ont titan:\n",
    "print(\"python pdfs_to_documents.py -i \" + config['medical_books_pdf_folder'] +\n",
    "      \" -o \" + config['medical_books_txt_folder'])"
   ]
  },
  {
   "cell_type": "code",
   "execution_count": null,
   "metadata": {
    "collapsed": true,
    "deletable": true,
    "editable": true
   },
   "outputs": [],
   "source": [
    "# train embedding / start medword\n",
    "\n",
    "# TODO"
   ]
  }
 ],
 "metadata": {
  "anaconda-cloud": {},
  "kernelspec": {
   "display_name": "Python [conda root]",
   "language": "python",
   "name": "conda-root-py"
  },
  "language_info": {
   "codemirror_mode": {
    "name": "ipython",
    "version": 3
   },
   "file_extension": ".py",
   "mimetype": "text/x-python",
   "name": "python",
   "nbconvert_exporter": "python",
   "pygments_lexer": "ipython3",
   "version": "3.5.2"
  }
 },
 "nbformat": 4,
 "nbformat_minor": 2
}
