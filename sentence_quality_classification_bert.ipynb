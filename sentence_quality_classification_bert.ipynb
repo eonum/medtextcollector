{
 "cells": [
  {
   "cell_type": "markdown",
   "metadata": {},
   "source": [
    "## Sentence Quality Classification\n",
    "\n",
    "Classifiy sentences into high / low quality. This is used to improve data quality for texts from different sources (scanned PDFs, crawled HTML, parsed Wikipedia, ..). It's mainly used to filter out artifacts from faulty parsing, HTML fragments, navigation elements, non-sentences (references, titles, ..)\n",
    "\n",
    "This notebook uses BERT for this task. Other approaches can be found in sentence_quality_classifier.ipynb"
   ]
  },
  {
   "cell_type": "code",
   "execution_count": 25,
   "metadata": {},
   "outputs": [
    {
     "name": "stdout",
     "output_type": "stream",
     "text": [
      "The autoreload extension is already loaded. To reload it, use:\n",
      "  %reload_ext autoreload\n"
     ]
    }
   ],
   "source": [
    "%matplotlib inline\n",
    "%load_ext autoreload\n",
    "%autoreload 2\n",
    "\n",
    "import load_config\n",
    "import json\n",
    "import numpy as np\n",
    "\n",
    "### define a new configuration\n",
    "config_dict = {\n",
    "    # training data\n",
    "    \"train_file\": \"data/sentence-quality-8k.csv\",\n",
    "    \"seq_len\": 128,\n",
    "    \"batch_size\": 128,\n",
    "    \"epochs\": 5,\n",
    "    \"lr\": 1e-4,\n",
    "    \n",
    "    # where to store the configuration file\n",
    "    \"config_path\": \"data/configuration-sentence-quality-classifier-bert.json\"\n",
    "}"
   ]
  },
  {
   "cell_type": "code",
   "execution_count": 16,
   "metadata": {
    "collapsed": true
   },
   "outputs": [],
   "source": [
    "### save config file (don't change)\n",
    "config_src = config_dict[\"config_path\"]\n",
    "\n",
    "with open(config_src, 'w+') as f:\n",
    "    json.dump(config_dict, f, indent=4)\n",
    "    \n",
    "# load config object based on config file (don't change)\n",
    "config = load_config.Configuration(config_src, True)"
   ]
  },
  {
   "cell_type": "code",
   "execution_count": 3,
   "metadata": {
    "collapsed": true
   },
   "outputs": [],
   "source": [
    "# load training data\n",
    "import pandas as pd \n",
    "\n",
    "data = pd.read_csv(config['train_file']) \n",
    "data = data.sample(frac=1).reset_index(drop=True)"
   ]
  },
  {
   "cell_type": "code",
   "execution_count": 6,
   "metadata": {},
   "outputs": [
    {
     "name": "stdout",
     "output_type": "stream",
     "text": [
      "Number of sentences: 8005\n",
      "Number of sentences with label: 8005\n"
     ]
    },
    {
     "data": {
      "text/html": [
       "<div>\n",
       "<style>\n",
       "    .dataframe thead tr:only-child th {\n",
       "        text-align: right;\n",
       "    }\n",
       "\n",
       "    .dataframe thead th {\n",
       "        text-align: left;\n",
       "    }\n",
       "\n",
       "    .dataframe tbody tr th {\n",
       "        vertical-align: top;\n",
       "    }\n",
       "</style>\n",
       "<table border=\"1\" class=\"dataframe\">\n",
       "  <thead>\n",
       "    <tr style=\"text-align: right;\">\n",
       "      <th></th>\n",
       "      <th>Satz</th>\n",
       "      <th>Tokens</th>\n",
       "      <th>Klassierung</th>\n",
       "      <th>Bemerkungen</th>\n",
       "      <th>label</th>\n",
       "    </tr>\n",
       "  </thead>\n",
       "  <tbody>\n",
       "    <tr>\n",
       "      <th>0</th>\n",
       "      <td>und im Jahre 1994 der Weltverband \"Internation...</td>\n",
       "      <td>['und', 'im', 'jahre', '1994', 'der', 'weltver...</td>\n",
       "      <td>LOW_QUALITY</td>\n",
       "      <td>NaN</td>\n",
       "      <td>LOW_QUALITY</td>\n",
       "    </tr>\n",
       "    <tr>\n",
       "      <th>1</th>\n",
       "      <td>Das  Schrittmachersyndrom  ist eine Bezeichnun...</td>\n",
       "      <td>['das', 'schrittmachersyndrom', 'ist', 'eine',...</td>\n",
       "      <td>SENTENCE</td>\n",
       "      <td>NaN</td>\n",
       "      <td>SENTENCE</td>\n",
       "    </tr>\n",
       "    <tr>\n",
       "      <th>2</th>\n",
       "      <td>Versorgungsstrukturen in der Psychiatrie €hne,...</td>\n",
       "      <td>['versorgungsstrukturen', 'in', 'der', 'psychi...</td>\n",
       "      <td>LOW_QUALITY</td>\n",
       "      <td>NaN</td>\n",
       "      <td>LOW_QUALITY</td>\n",
       "    </tr>\n",
       "    <tr>\n",
       "      <th>3</th>\n",
       "      <td>KG Heidelberg  SmithKline Beecham GmbH &amp; Co.</td>\n",
       "      <td>['kg', 'heidelberg', 'smithkline', 'beecham', ...</td>\n",
       "      <td>REFERENCE</td>\n",
       "      <td>NaN</td>\n",
       "      <td>REFERENCE</td>\n",
       "    </tr>\n",
       "    <tr>\n",
       "      <th>4</th>\n",
       "      <td>Medizinischen Klinik und Poliklinik der Univer...</td>\n",
       "      <td>['medizinischen', 'klinik', 'und', 'poliklinik...</td>\n",
       "      <td>LOW_QUALITY</td>\n",
       "      <td>NaN</td>\n",
       "      <td>LOW_QUALITY</td>\n",
       "    </tr>\n",
       "  </tbody>\n",
       "</table>\n",
       "</div>"
      ],
      "text/plain": [
       "                                                Satz  \\\n",
       "0  und im Jahre 1994 der Weltverband \"Internation...   \n",
       "1  Das  Schrittmachersyndrom  ist eine Bezeichnun...   \n",
       "2  Versorgungsstrukturen in der Psychiatrie €hne,...   \n",
       "3       KG Heidelberg  SmithKline Beecham GmbH & Co.   \n",
       "4  Medizinischen Klinik und Poliklinik der Univer...   \n",
       "\n",
       "                                              Tokens  Klassierung Bemerkungen  \\\n",
       "0  ['und', 'im', 'jahre', '1994', 'der', 'weltver...  LOW_QUALITY         NaN   \n",
       "1  ['das', 'schrittmachersyndrom', 'ist', 'eine',...     SENTENCE         NaN   \n",
       "2  ['versorgungsstrukturen', 'in', 'der', 'psychi...  LOW_QUALITY         NaN   \n",
       "3  ['kg', 'heidelberg', 'smithkline', 'beecham', ...    REFERENCE         NaN   \n",
       "4  ['medizinischen', 'klinik', 'und', 'poliklinik...  LOW_QUALITY         NaN   \n",
       "\n",
       "         label  \n",
       "0  LOW_QUALITY  \n",
       "1     SENTENCE  \n",
       "2  LOW_QUALITY  \n",
       "3    REFERENCE  \n",
       "4  LOW_QUALITY  "
      ]
     },
     "execution_count": 6,
     "metadata": {},
     "output_type": "execute_result"
    },
    {
     "data": {
      "image/png": "[encoded data removed]",
      "text/plain": [
       "<Figure size 432x288 with 1 Axes>"
      ]
     },
     "metadata": {},
     "output_type": "display_data"
    }
   ],
   "source": [
    "# set targets\n",
    "print(\"Number of sentences: \" + str(len(data.index)))\n",
    "data = data.dropna(subset= ['Klassierung'])\n",
    "print(\"Number of sentences with label: \" + str(len(data.index)))\n",
    "data.groupby('Klassierung').Klassierung.count().plot.bar()\n",
    "\n",
    "#data['label'] = pd.Series(['high' if a else 'low' for a in data['Klassierung'].isin(['SENTENCE'])], index=data.index)\n",
    "data['label'] = pd.Series(data['Klassierung'], index=data.index)\n",
    "\n",
    "# set label / classes\n",
    "classes = list(data['label'].unique())\n",
    "data.head()"
   ]
  },
  {
   "cell_type": "code",
   "execution_count": 19,
   "metadata": {},
   "outputs": [
    {
     "name": "stdout",
     "output_type": "stream",
     "text": [
      "/home/tim/.keras/datasets/multi_cased_L-12_H-768_A-12/bert_config.json /home/tim/.keras/datasets/multi_cased_L-12_H-768_A-12/bert_model.ckpt /home/tim/.keras/datasets/multi_cased_L-12_H-768_A-12/vocab.txt\n",
      "Vocabulary size: 119548\n"
     ]
    }
   ],
   "source": [
    "# Load BERT model\n",
    "from keras_bert import Tokenizer\n",
    "import keras\n",
    "from keras_bert import get_base_dict, get_model, gen_batch_inputs\n",
    "from keras_bert import get_pretrained, PretrainedList, get_checkpoint_paths\n",
    "import codecs\n",
    "from keras_bert import load_trained_model_from_checkpoint\n",
    "\n",
    "model_path = get_pretrained(PretrainedList.multi_cased_base)\n",
    "paths = get_checkpoint_paths(model_path)\n",
    "print(paths.config, paths.checkpoint, paths.vocab)\n",
    "\n",
    "token_dict = get_base_dict()  # A dict that contains some special tokens\n",
    "with codecs.open(paths.vocab, 'r', 'utf8') as reader:\n",
    "    for line in reader:\n",
    "        token = line.strip()\n",
    "        token_dict[token] = len(token_dict)\n",
    "        \n",
    "print(\"Vocabulary size: \" + str(len(token_dict)))\n",
    "\n",
    "model = load_trained_model_from_checkpoint(\n",
    "    paths.config,\n",
    "    paths.checkpoint,\n",
    "    training=True,\n",
    "    trainable=True,\n",
    "    seq_len=config[\"seq_len\"],\n",
    ")"
   ]
  },
  {
   "cell_type": "code",
   "execution_count": 27,
   "metadata": {},
   "outputs": [
    {
     "name": "stdout",
     "output_type": "stream",
     "text": [
      "(8005, 128)\n",
      "[   105  15943 103305  34877  89437  10137  10107  10119  97765  14951\n",
      "  27826  12905   1776  37894    118  18644  79847  10207  81970  10166\n",
      "    118    171    120  10806  14511  12351    118  12212  42042    190\n",
      "    120  12604    118  77587  57554  10731  18290  10124    118  11736\n",
      "  10114  75981 102697  10163  46961  60261    118  28781  16823  14404\n",
      "    176    120  29957  13865  10162    119  42940    118  17256  53505\n",
      "  10404  86982  10108  20924  10163    118  77587  57554  10348  19154\n",
      "  10131    192    120  39313  50938  10107  27016    123    123    120\n",
      "    123    123    120    124    123    120    125  46504 110535  10113\n",
      "    120    105      0      0      0      0      0      0      0      0\n",
      "      0      0      0      0      0      0      0      0      0      0\n",
      "      0      0      0      0      0      0      0      0      0      0\n",
      "      0      0      0      0      0      0      0      0]\n"
     ]
    }
   ],
   "source": [
    "tokenizer = Tokenizer(token_dict)\n",
    "tokenizer.tokenize(data[\"Satz\"][234])\n",
    "\n",
    "indices = []\n",
    "for sentence in data[\"Satz\"]:\n",
    "    ids, segments = tokenizer.encode(sentence, max_len=config[\"seq_len\"])\n",
    "    indices.append(ids)\n",
    "\n",
    "indices = np.array(indices)\n",
    "\n",
    "print(indices.shape)\n",
    "print(indices[2])\n",
    "\n",
    "from sklearn.model_selection import train_test_split\n",
    "# X_train, X_test, char_int_encoded_train, char_int_encoded_test, y_train, y_test = train_test_split(np.array([e[0] for e in data['input']]), char_int_encoded, data['label'], random_state = 2)"
   ]
  }
 ],
 "metadata": {
  "kernelspec": {
   "display_name": "Python 3",
   "language": "python",
   "name": "python3"
  },
  "language_info": {
   "codemirror_mode": {
    "name": "ipython",
    "version": 3
   },
   "file_extension": ".py",
   "mimetype": "text/x-python",
   "name": "python",
   "nbconvert_exporter": "python",
   "pygments_lexer": "ipython3",
   "version": "3.6.3"
  }
 },
 "nbformat": 4,
 "nbformat_minor": 2
}
