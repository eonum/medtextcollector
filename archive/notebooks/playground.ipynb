{
 "cells": [
  {
   "cell_type": "code",
   "execution_count": 10,
   "metadata": {
    "collapsed": false,
    "deletable": true,
    "editable": true
   },
   "outputs": [],
   "source": [
    "from tokenizer import SimpleGermanTokenizer\n",
    "import matplotlib.pyplot as plt\n",
    "import os\n",
    "import random\n",
    "%matplotlib inline\n",
    "\n",
    "t = SimpleGermanTokenizer()\n",
    "def load_documents(path):\n",
    "    documents = []\n",
    "    for (dirpath, dirnames, filenames) in os.walk(path):\n",
    "        for filename in filenames: \n",
    "            with open(os.path.join(dirpath, filename), 'r') as file:\n",
    "                documents.append(file.read())\n",
    "        break\n",
    "    random.shuffle(documents)\n",
    "    return documents\n",
    "        \n",
    "def token_number_histogram(documents, t):\n",
    "    tokenized_documents = [t.tokenize(doc) for doc in documents]\n",
    "    lengths = [len(doc) for doc in tokenized_documents]\n",
    "    plt.hist(lengths, bins=range(min(lengths), max(lengths), 10))\n",
    "    plt.show()"
   ]
  },
  {
   "cell_type": "code",
   "execution_count": 11,
   "metadata": {
    "collapsed": false,
    "deletable": true,
    "editable": true
   },
   "outputs": [
    {
     "data": {
      "image/png": "[encoded data removed]",
      "text/plain": [
       "<matplotlib.figure.Figure at 0x7f41a8333828>"
      ]
     },
     "metadata": {},
     "output_type": "display_data"
    }
   ],
   "source": [
    "pos = load_documents('data/input/positive')\n",
    "token_number_histogram(pos, t)"
   ]
  },
  {
   "cell_type": "code",
   "execution_count": 8,
   "metadata": {
    "collapsed": false
   },
   "outputs": [
    {
     "data": {
      "text/plain": [
       "5010"
      ]
     },
     "execution_count": 8,
     "metadata": {},
     "output_type": "execute_result"
    }
   ],
   "source": [
    "len(t.tokenize(pos[233]))"
   ]
  },
  {
   "cell_type": "code",
   "execution_count": 12,
   "metadata": {
    "collapsed": false,
    "deletable": true,
    "editable": true
   },
   "outputs": [
    {
     "data": {
      "image/png": "[encoded data removed]",
      "text/plain": [
       "<matplotlib.figure.Figure at 0x7f41a81f2668>"
      ]
     },
     "metadata": {},
     "output_type": "display_data"
    }
   ],
   "source": [
    "unl = load_documents('data/input/unlabeled')\n",
    "token_number_histogram(unl, t)"
   ]
  },
  {
   "cell_type": "code",
   "execution_count": 13,
   "metadata": {
    "collapsed": false,
    "deletable": true,
    "editable": true
   },
   "outputs": [
    {
     "name": "stdout",
     "output_type": "stream",
     "text": [
      "[11399, 18215, 4464, 24019, 30195, 41649, 54119, 11577, 49063, 13693, 47702, 34243, 48014, 23458, 87326, 100837, 70389, 34739, 84724, 40386]\n",
      "[1883, 9085, 6700, 15610, 1827, 42564, 32913, 10179, 2558, 11513, 6674, 26530, 5568, 48341, 7221, 23418, 5421, 24952, 39296, 2111]\n"
     ]
    }
   ],
   "source": [
    "import numpy\n",
    "print([len(doc) for doc in load_documents('data/input/positive')[:20]])\n",
    "print([len(doc) for doc in load_documents('data/input/unlabeled')[:20]])"
   ]
  },
  {
   "cell_type": "code",
   "execution_count": null,
   "metadata": {
    "collapsed": true
   },
   "outputs": [],
   "source": []
  }
 ],
 "metadata": {
  "kernelspec": {
   "display_name": "Python [default]",
   "language": "python",
   "name": "python3"
  },
  "language_info": {
   "codemirror_mode": {
    "name": "ipython",
    "version": 3
   },
   "file_extension": ".py",
   "mimetype": "text/x-python",
   "name": "python",
   "nbconvert_exporter": "python",
   "pygments_lexer": "ipython3",
   "version": "3.5.2"
  }
 },
 "nbformat": 4,
 "nbformat_minor": 0
}
