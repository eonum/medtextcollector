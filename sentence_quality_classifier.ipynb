{
 "cells": [
  {
   "cell_type": "markdown",
   "metadata": {},
   "source": [
    "## Sentence Quality Classification\n",
    "\n",
    "Classifiy sentences into high / low quality. This is used to improve data quality for texts from different sources (scanned PDFs, crawled HTML, parsed Wikipedia, ..). It's mainly used to filter out artifacts from faulty parsing, HTML fragments, navigation elements, non-sentences (references, titles, ..)"
   ]
  },
  {
   "cell_type": "code",
   "execution_count": 1,
   "metadata": {
    "collapsed": true
   },
   "outputs": [],
   "source": [
    "%matplotlib inline\n",
    "%load_ext autoreload\n",
    "%autoreload 2\n",
    "\n",
    "import load_config\n",
    "import json\n",
    "import nltk\n",
    "\n",
    "### define a new configuration\n",
    "config_dict = {\n",
    "    # training data\n",
    "    \"train_file\": \"data/sentence-quality.csv\",\n",
    "     \n",
    "    # model\n",
    "   \n",
    "    # chose tokenizer. possible values: \"nst\" and \"sgt\"\n",
    "    ## NonStemmingTokenizer: 'nst'\n",
    "    # - no stemming, only remove punctuation marks\n",
    "    # - lowercase letters\n",
    "\n",
    "    ## SimpleGermanTokenizer: 'sgt'\n",
    "    # - remove punctuation marks\n",
    "    # - stemming\n",
    "    # - lowercase letters\n",
    "    \"tokenizer\": \"nst\",\n",
    "    \n",
    "    # where to store the configuration file\n",
    "    \"config_path\": \"data/configuration-sentence-quality-classifier.json\"\n",
    "}"
   ]
  },
  {
   "cell_type": "code",
   "execution_count": 2,
   "metadata": {
    "collapsed": true
   },
   "outputs": [],
   "source": [
    "### save config file (don't change)\n",
    "config_src = config_dict[\"config_path\"]\n",
    "\n",
    "with open(config_src, 'w+') as f:\n",
    "    json.dump(config_dict, f, indent=4)\n",
    "    \n",
    "# load config object based on config file (don't change)\n",
    "config = load_config.Configuration(config_src, True)"
   ]
  },
  {
   "cell_type": "code",
   "execution_count": 4,
   "metadata": {},
   "outputs": [],
   "source": [
    "from tokenizer import get_tokenizer\n",
    "tokenizer = get_tokenizer(config_dict['tokenizer'])"
   ]
  },
  {
   "cell_type": "code",
   "execution_count": 7,
   "metadata": {},
   "outputs": [
    {
     "data": {
      "text/html": [
       "<div>\n",
       "<style>\n",
       "    .dataframe thead tr:only-child th {\n",
       "        text-align: right;\n",
       "    }\n",
       "\n",
       "    .dataframe thead th {\n",
       "        text-align: left;\n",
       "    }\n",
       "\n",
       "    .dataframe tbody tr th {\n",
       "        vertical-align: top;\n",
       "    }\n",
       "</style>\n",
       "<table border=\"1\" class=\"dataframe\">\n",
       "  <thead>\n",
       "    <tr style=\"text-align: right;\">\n",
       "      <th></th>\n",
       "      <th>Satz</th>\n",
       "      <th>Tokens</th>\n",
       "      <th>Klassierung</th>\n",
       "      <th>Bemerkungen</th>\n",
       "    </tr>\n",
       "  </thead>\n",
       "  <tbody>\n",
       "    <tr>\n",
       "      <th>0</th>\n",
       "      <td>Leitthema Trauma Berufskrankh 2016 · 18:275–28...</td>\n",
       "      <td>['leitthema', 'trauma', 'berufskrankh', '2016'...</td>\n",
       "      <td>REFERENCE</td>\n",
       "      <td>NaN</td>\n",
       "    </tr>\n",
       "    <tr>\n",
       "      <th>1</th>\n",
       "      <td>für Wirbelsäulenchirurgie, Berufsgenossenschaf...</td>\n",
       "      <td>['für', 'wirbelsäulenchirurgie', 'berufsgenoss...</td>\n",
       "      <td>TITLE</td>\n",
       "      <td>NaN</td>\n",
       "    </tr>\n",
       "    <tr>\n",
       "      <th>2</th>\n",
       "      <td>83 mischten lympho-epithelialen ~eubildungen d...</td>\n",
       "      <td>['83', 'mischten', 'lympho-epithelialen', 'eub...</td>\n",
       "      <td>LOW_QUALITY</td>\n",
       "      <td>NaN</td>\n",
       "    </tr>\n",
       "    <tr>\n",
       "      <th>3</th>\n",
       "      <td>iVikolaus G. Chlopin.</td>\n",
       "      <td>['ivikolaus', 'g', 'chlopin']</td>\n",
       "      <td>REFERENCE</td>\n",
       "      <td>NaN</td>\n",
       "    </tr>\n",
       "    <tr>\n",
       "      <th>4</th>\n",
       "      <td>Langenbecks Archivf.rChirurgie  Langenbecks Ar...</td>\n",
       "      <td>['langenbecks', 'archivfrchirurgie', 'langenbe...</td>\n",
       "      <td>REFERENCE</td>\n",
       "      <td>NaN</td>\n",
       "    </tr>\n",
       "  </tbody>\n",
       "</table>\n",
       "</div>"
      ],
      "text/plain": [
       "                                                Satz  \\\n",
       "0  Leitthema Trauma Berufskrankh 2016 · 18:275–28...   \n",
       "1  für Wirbelsäulenchirurgie, Berufsgenossenschaf...   \n",
       "2  83 mischten lympho-epithelialen ~eubildungen d...   \n",
       "3                              iVikolaus G. Chlopin.   \n",
       "4  Langenbecks Archivf.rChirurgie  Langenbecks Ar...   \n",
       "\n",
       "                                              Tokens  Klassierung Bemerkungen  \n",
       "0  ['leitthema', 'trauma', 'berufskrankh', '2016'...    REFERENCE         NaN  \n",
       "1  ['für', 'wirbelsäulenchirurgie', 'berufsgenoss...        TITLE         NaN  \n",
       "2  ['83', 'mischten', 'lympho-epithelialen', 'eub...  LOW_QUALITY         NaN  \n",
       "3                      ['ivikolaus', 'g', 'chlopin']    REFERENCE         NaN  \n",
       "4  ['langenbecks', 'archivfrchirurgie', 'langenbe...    REFERENCE         NaN  "
      ]
     },
     "execution_count": 7,
     "metadata": {},
     "output_type": "execute_result"
    }
   ],
   "source": [
    "# load training data\n",
    "import pandas as pd \n",
    "\n",
    "data = pd.read_csv(config['train_file']) \n",
    "data.head()"
   ]
  },
  {
   "cell_type": "code",
   "execution_count": 23,
   "metadata": {},
   "outputs": [
    {
     "data": {
      "text/plain": [
       "Satz           83 mischten lympho-epithelialen ~eubildungen d...\n",
       "Tokens         ['83', 'mischten', 'lympho-epithelialen', 'eub...\n",
       "Klassierung                                          LOW_QUALITY\n",
       "Bemerkungen                                                  NaN\n",
       "Name: 2, dtype: object"
      ]
     },
     "execution_count": 23,
     "metadata": {},
     "output_type": "execute_result"
    }
   ],
   "source": [
    "data.loc[2]"
   ]
  },
  {
   "cell_type": "code",
   "execution_count": 32,
   "metadata": {},
   "outputs": [
    {
     "data": {
      "image/png": "[encoded data removed]",
      "text/plain": [
       "<matplotlib.figure.Figure at 0x7f65e87f8f60>"
      ]
     },
     "metadata": {},
     "output_type": "display_data"
    },
    {
     "data": {
      "image/png": "[encoded data removed]",
      "text/plain": [
       "<matplotlib.figure.Figure at 0x7f65e872a5c0>"
      ]
     },
     "metadata": {},
     "output_type": "display_data"
    }
   ],
   "source": [
    "high_quality = data.loc[data['Klassierung'].isin(['SENTENCE'])]\n",
    "low_quality = data.loc[[not a for a in data['Klassierung'].isin(['SENTENCE'])]]\n",
    "\n",
    "fdc = nltk.FreqDist()\n",
    "for s in high_quality['Satz']:\n",
    "    fdc.update(s)\n",
    "    \n",
    "# character frequencies\n",
    "fdc.plot(40,cumulative=False)\n",
    "\n",
    "fdc2 = nltk.FreqDist()\n",
    "for s in low_quality['Satz']:\n",
    "    fdc2.update(s)\n",
    "    \n",
    "# character frequencies\n",
    "fdc2.plot(40,cumulative=False)"
   ]
  },
  {
   "cell_type": "code",
   "execution_count": null,
   "metadata": {
    "collapsed": true
   },
   "outputs": [],
   "source": []
  }
 ],
 "metadata": {
  "kernelspec": {
   "display_name": "Python 3",
   "language": "python",
   "name": "python3"
  },
  "language_info": {
   "codemirror_mode": {
    "name": "ipython",
    "version": 3
   },
   "file_extension": ".py",
   "mimetype": "text/x-python",
   "name": "python",
   "nbconvert_exporter": "python",
   "pygments_lexer": "ipython3",
   "version": "3.6.3"
  }
 },
 "nbformat": 4,
 "nbformat_minor": 2
}
